{
 "cells": [
  {
   "cell_type": "code",
   "execution_count": 1,
   "metadata": {},
   "outputs": [],
   "source": [
    "import tensorflow as tf\n",
    "import numpy as np\n",
    "\n",
    "from matplotlib import pyplot as plt\n",
    "%matplotlib inline\n",
    "\n",
    "from random import randint\n",
    "\n",
    "from load_data import gen_data"
   ]
  },
  {
   "cell_type": "code",
   "execution_count": 2,
   "metadata": {},
   "outputs": [],
   "source": [
    "tf.reset_default_graph()\n",
    "\n",
    "num_steps = 25\n",
    "\n",
    "\n",
    "input_num = 5\n",
    "output_num = 1\n",
    "\n",
    "state_size = 20\n",
    "learning_rate = 0.1\n",
    "num_layers = 4\n",
    "\n",
    "x = tf.placeholder(tf.float32, [None, num_steps,input_num], name='input_placeholder')\n",
    "y = tf.placeholder(tf.float32, [None], name='labels_placeholder')\n",
    "\n",
    "#rnn_inputs = tf.one_hot(x, num_classes)\n",
    "rnn_inputs = x"
   ]
  },
  {
   "cell_type": "code",
   "execution_count": 3,
   "metadata": {
    "scrolled": true
   },
   "outputs": [],
   "source": [
    "#cell = tf.contrib.rnn.LSTMCell(state_size)\n",
    "cells = []\n",
    "for i in range(0, num_layers):\n",
    "    \n",
    "    cell = tf.contrib.rnn.GRUCell(state_size )\n",
    "    cell = tf.contrib.rnn.DropoutWrapper(cell, output_keep_prob=1.0-0.04)\n",
    "    cells.append(cell)\n",
    "    \n",
    "mul_cell = tf.nn.rnn_cell.MultiRNNCell(cells)\n",
    "\n",
    "rnn_outputs, final_state = tf.nn.dynamic_rnn(mul_cell, rnn_inputs, dtype=tf.float32)\n"
   ]
  },
  {
   "cell_type": "code",
   "execution_count": 4,
   "metadata": {
    "scrolled": true
   },
   "outputs": [],
   "source": [
    "rnn_outputs_flat = tf.reshape(rnn_outputs,[tf.shape(rnn_outputs)[0],rnn_outputs.shape[1]*rnn_outputs.shape[2]])\n",
    "\n",
    "logits = tf.squeeze(tf.layers.dense(rnn_outputs_flat,output_num),axis=1)\n",
    "\n",
    "loss = tf.reduce_mean(tf.square(y - logits))\n",
    "train_step = tf.train.AdagradOptimizer(learning_rate).minimize(loss)"
   ]
  },
  {
   "cell_type": "code",
   "execution_count": 5,
   "metadata": {
    "scrolled": true
   },
   "outputs": [
    {
     "name": "stdout",
     "output_type": "stream",
     "text": [
      "London Energy Balance 5min 2013\n",
      "London Water Balance 5min 2013\n",
      "London Lysimeters kg 5min2013\n"
     ]
    },
    {
     "name": "stderr",
     "output_type": "stream",
     "text": [
      "/notebooks/Recurrent/load_data.py:68: FutureWarning: how in .resample() is deprecated\n",
      "the new syntax is .resample(...)..apply(<func>)\n",
      "  'Wind': \"mean\",'Rain': \"sum\",'Lysimeter': \"mean\"})\n"
     ]
    },
    {
     "name": "stdout",
     "output_type": "stream",
     "text": [
      "Iteration : 0  loss : 324.990966796875  \n",
      "real : [ 18.10318907  18.0803221   18.05376884]   \n",
      "pred : [-0.00965422  0.09441379  0.05255085]\n",
      "\n",
      "Iteration : 50  loss : 0.1287166327238083  \n",
      "real : [ 18.95956629  18.78911441  18.79060037]   \n",
      "pred : [ 19.10344124  18.87862778  19.53871536]\n",
      "\n",
      "Iteration : 100  loss : 8.179980278015137  \n",
      "real : [ 13.82288851  17.1314449   17.25216533]   \n",
      "pred : [ 14.2445488   13.91338158  14.00990868]\n",
      "\n",
      "Iteration : 150  loss : 0.24739137291908264  \n",
      "real : [ 14.09602563  14.08808752  14.02177634]   \n",
      "pred : [ 13.85900879  13.26789665  14.16982079]\n",
      "\n",
      "Iteration : 200  loss : 0.18684613704681396  \n",
      "real : [ 15.47021976  15.47844418  15.46682955]   \n",
      "pred : [ 14.96752644  15.43684769  15.69403076]\n",
      "\n",
      "Iteration : 250  loss : 0.11952874809503555  \n",
      "real : [ 20.77658503  20.71489549  20.7030837 ]   \n",
      "pred : [ 20.94754982  21.18831062  20.21839142]\n",
      "\n",
      "Calgary Energy Balance 5min 2013\n",
      "Calgary Water Balance 5min 2013\n",
      "Calgary Lysimeters kg 5min2013\n",
      "Iteration : 300  loss : 0.6054501533508301  \n",
      "real : [ 14.97043074  14.93579291  14.88535378]   \n",
      "pred : [ 13.9173336   14.35836029  14.13444424]\n",
      "\n",
      "Iteration : 350  loss : 0.13597336411476135  \n",
      "real : [ 15.08686873  15.13991767  15.13365387]   \n",
      "pred : [ 15.37861824  14.90851212  14.96793365]\n",
      "\n",
      "London Energy Balance 5min 2014\n",
      "London Water Balance 5min 2014\n",
      "London Lysimeters kg 5min2014\n"
     ]
    },
    {
     "name": "stderr",
     "output_type": "stream",
     "text": [
      "/usr/local/lib/python3.5/dist-packages/pandas/core/indexes/base.py:2245: FutureWarning: In the future, 'NAT < x' and 'x < NAT' will always be False.\n",
      "  self._values[0] < other_diff[0]\n"
     ]
    },
    {
     "name": "stdout",
     "output_type": "stream",
     "text": [
      "Iteration : 400  loss : 0.21118824183940887  \n",
      "real : [ 16.97133426  16.89255168  16.870072  ]   \n",
      "pred : [ 17.2852993   17.58287811  17.02846909]\n",
      "\n",
      "Iteration : 450  loss : 0.14036791026592255  \n",
      "real : [ 16.51546097  16.34446267  16.2462208 ]   \n",
      "pred : [ 16.86952782  16.38832664  16.32691193]\n",
      "\n",
      "Iteration : 500  loss : 0.18686100840568542  \n",
      "real : [ 17.12070126  17.1132969   17.10471418]   \n",
      "pred : [ 16.33442497  16.70874214  16.8430481 ]\n",
      "\n",
      "Iteration : 550  loss : 0.16016548871994019  \n",
      "real : [ 16.92803308  16.92286136  16.9172299 ]   \n",
      "pred : [ 16.88837624  17.45237541  17.58054352]\n",
      "\n",
      "Calgary Energy Balance 5min 2014\n",
      "Calgary Water Balance 5min 2014\n",
      "Calgary Lysimeters kg 5min2014\n",
      "Iteration : 600  loss : 0.09306290000677109  \n",
      "real : [ 14.21298774  14.18440868  14.28919475]   \n",
      "pred : [ 14.52367878  14.60571766  14.32692242]\n",
      "\n",
      "Iteration : 650  loss : 0.13163089752197266  \n",
      "real : [ 13.03580086  12.9753498   12.93583251]   \n",
      "pred : [ 12.8925333   13.33928871  13.58264256]\n",
      "\n",
      "Iteration : 700  loss : 0.08000662922859192  \n",
      "real : [ 0.  0.  0.]   \n",
      "pred : [ 0.39367726  0.46646568  0.03272764]\n",
      "\n",
      "Done Loading files\n"
     ]
    }
   ],
   "source": [
    "batch_size = 5\n",
    "init = tf.global_variables_initializer()\n",
    "sess = tf.Session()\n",
    "sess.run(init)\n",
    "for i,(x_,y_) in enumerate(gen_data([\"London\",\"Calgary\"],['2013','2014'],\n",
    "                                    batch_size,num_steps)):\n",
    "    if(y_.shape[0] == 0):\n",
    "        continue\n",
    "    #dy = y_[:][-1]\n",
    "    _,loss_,pred = sess.run([train_step,loss,logits], feed_dict = {x : x_, y: y_})\n",
    "\n",
    "    if(i%50 == 0):\n",
    "        print(\"Iteration : {}  loss : {}  \\nreal : {}   \\npred : {}\\n\".format(i, loss_, y_[0:3],pred[0:3]))\n"
   ]
  },
  {
   "cell_type": "code",
   "execution_count": 17,
   "metadata": {
    "scrolled": true
   },
   "outputs": [
    {
     "name": "stdout",
     "output_type": "stream",
     "text": [
      "Halifax Energy Balance 5min 2013\n",
      "Halifax Water Balance 5min 2013\n",
      "Halifax Lysimeters kg 5min2013\n"
     ]
    },
    {
     "name": "stderr",
     "output_type": "stream",
     "text": [
      "/notebooks/Recurrent/load_data.py:68: FutureWarning: how in .resample() is deprecated\n",
      "the new syntax is .resample(...)..apply(<func>)\n",
      "  'Wind': \"mean\",'Rain': \"sum\",'Lysimeter': \"mean\"})\n"
     ]
    },
    {
     "name": "stdout",
     "output_type": "stream",
     "text": [
      "Iteration : 0  \n",
      "real : [ 13.41168287  13.42844894  13.43358182]   \n",
      "pred : [ 13.08285999  12.87775517  12.96861744]\n",
      "\n",
      "Iteration : 1  \n",
      "real : [ 13.62735885  13.67614649  13.70113795]   \n",
      "pred : [ 13.13676548  13.04057121  13.57820034]\n",
      "\n",
      "Iteration : 2  \n",
      "real : [ 13.91917466  13.97809281  14.02547151]   \n",
      "pred : [ 13.30455208  13.45019054  13.52787685]\n",
      "\n",
      "Iteration : 3  \n",
      "real : [ 14.07297163  13.92831413  13.99635657]   \n",
      "pred : [ 13.47914982  13.07739544  13.00155067]\n",
      "\n",
      "Iteration : 4  \n",
      "real : [ 13.85357935  13.80548777  13.80378317]   \n",
      "pred : [ 13.33316994  12.90641499  12.99451637]\n",
      "\n",
      "Iteration : 5  \n",
      "real : [ 13.65246677  13.6907942   13.5972057 ]   \n",
      "pred : [ 13.19068432  13.50811768  13.37528992]\n",
      "\n",
      "Iteration : 6  \n",
      "real : [ 13.55571162  13.48338298  12.99125408]   \n",
      "pred : [ 13.5321331   13.16069984  13.04285431]\n",
      "\n",
      "Iteration : 7  \n",
      "real : [ 13.17431336  13.07903623  13.23888355]   \n",
      "pred : [ 12.66262817  13.15732861  12.83452129]\n",
      "\n",
      "Iteration : 8  \n",
      "real : [ 12.7830831   12.70791251  12.82977833]   \n",
      "pred : [ 13.29983425  13.21357727  13.6575098 ]\n",
      "\n",
      "Iteration : 9  \n",
      "real : [ 14.15424667  14.13946569  14.06141081]   \n",
      "pred : [ 13.72166252  13.63369942  13.56967926]\n",
      "\n",
      "Iteration : 10  \n",
      "real : [ 14.02515182  14.04132603  13.71239391]   \n",
      "pred : [ 13.25146198  13.28043461  13.53663635]\n",
      "\n",
      "Iteration : 11  \n",
      "real : [ 13.8738338   14.38439111  14.33208865]   \n",
      "pred : [ 13.53041267  13.23893929  13.95181465]\n",
      "\n",
      "Iteration : 12  \n",
      "real : [ 14.83454896  14.77374209  14.76506128]   \n",
      "pred : [ 13.21714973  13.1153307   13.25277042]\n",
      "\n",
      "Iteration : 13  \n",
      "real : [ 14.55397614  14.54788207  14.52866172]   \n",
      "pred : [ 13.63437748  12.75918484  13.31295204]\n",
      "\n",
      "Iteration : 14  \n",
      "real : [ 14.31862004  14.29983929  14.2255399 ]   \n",
      "pred : [ 12.88416386  13.59231853  13.59379005]\n",
      "\n",
      "Iteration : 15  \n",
      "real : [ 14.18544362  14.08486461  14.03037983]   \n",
      "pred : [ 13.40109825  12.31382465  13.61754227]\n",
      "\n",
      "Iteration : 16  \n",
      "real : [ 13.92069658  13.86955133  13.86325476]   \n",
      "pred : [ 13.51498222  13.35918903  13.5113039 ]\n",
      "\n",
      "Iteration : 17  \n",
      "real : [ 13.93103913  13.91168682  13.89366805]   \n",
      "pred : [ 12.84282875  13.41178989  13.01406288]\n",
      "\n",
      "Iteration : 18  \n",
      "real : [ 13.7884318   13.78259334  13.71124537]   \n",
      "pred : [ 13.42341995  13.69524574  13.72061062]\n",
      "\n",
      "Iteration : 19  \n",
      "real : [ 13.69303512  13.69635755  13.68800308]   \n",
      "pred : [ 13.36535358  13.32144451  13.16172123]\n",
      "\n",
      "Iteration : 20  \n",
      "real : [ 13.83981935  13.98572875  14.72878418]   \n",
      "pred : [ 13.56277561  13.10286617  13.23299885]\n",
      "\n",
      "Iteration : 21  \n",
      "real : [ 16.37121153  16.36407967  16.36773205]   \n",
      "pred : [ 13.54984474  13.85766411  13.72410488]\n",
      "\n"
     ]
    }
   ],
   "source": [
    "for i,(x_,y_) in enumerate(gen_data([\"Halifax\"],['2013','2014'],\n",
    "                                    batch_size,num_steps)):\n",
    "    if(x_.shape[0] == 0):\n",
    "        continue\n",
    "        \n",
    "    pred = sess.run([logits], feed_dict = {x : x_})\n",
    "    \n",
    "    print(\"Iteration : {}  \\nreal : {}   \\npred : {}\\n\".format(i, y_[0:3],pred[0][0:3]))\n",
    "    if(i > 20):\n",
    "        break"
   ]
  },
  {
   "cell_type": "code",
   "execution_count": 10,
   "metadata": {},
   "outputs": [
    {
     "name": "stdout",
     "output_type": "stream",
     "text": [
      "Halifax Energy Balance 5min 2013\n",
      "Halifax Water Balance 5min 2013\n",
      "Halifax Lysimeters kg 5min2013\n"
     ]
    },
    {
     "name": "stderr",
     "output_type": "stream",
     "text": [
      "/notebooks/Recurrent/load_data.py:68: FutureWarning: how in .resample() is deprecated\n",
      "the new syntax is .resample(...)..apply(<func>)\n",
      "  'Wind': \"mean\",'Rain': \"sum\",'Lysimeter': \"mean\"})\n"
     ]
    }
   ],
   "source": [
    "data_x,data_y = next(gen_data([\"Halifax\"],['2013','2014'],\n",
    "                                    batch_size,num_steps))\n"
   ]
  },
  {
   "cell_type": "code",
   "execution_count": 13,
   "metadata": {},
   "outputs": [
    {
     "name": "stdout",
     "output_type": "stream",
     "text": [
      "[ 13.41168287  13.42844894  13.43358182]\n"
     ]
    }
   ],
   "source": [
    "print(data_y[0:3])"
   ]
  },
  {
   "cell_type": "code",
   "execution_count": 16,
   "metadata": {},
   "outputs": [
    {
     "name": "stdout",
     "output_type": "stream",
     "text": [
      "[ 12.81722736  13.56282902  13.04187489]\n"
     ]
    }
   ],
   "source": [
    "print(pred[0][0:3])"
   ]
  },
  {
   "cell_type": "code",
   "execution_count": null,
   "metadata": {},
   "outputs": [],
   "source": []
  }
 ],
 "metadata": {
  "kernelspec": {
   "display_name": "Python 3",
   "language": "python",
   "name": "python3"
  },
  "language_info": {
   "codemirror_mode": {
    "name": "ipython",
    "version": 3
   },
   "file_extension": ".py",
   "mimetype": "text/x-python",
   "name": "python",
   "nbconvert_exporter": "python",
   "pygments_lexer": "ipython3",
   "version": "3.5.2"
  }
 },
 "nbformat": 4,
 "nbformat_minor": 2
}
